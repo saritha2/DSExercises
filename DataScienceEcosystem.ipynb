{
 "cells": [
  {
   "cell_type": "markdown",
   "id": "e5945b60-b75f-4619-b310-e1078176d043",
   "metadata": {},
   "source": [
    "#Ex 2- H1 Header\n",
    "# Data Science Tools and Ecosystem\n",
    "\n"
   ]
  },
  {
   "cell_type": "markdown",
   "id": "0a3adc19-b8d5-4b43-8b92-c24268c813e2",
   "metadata": {},
   "source": [
    "#Ex 3 -Intro\n",
    "\n",
    "In this notebook, Data Science Tools and Ecosystem are summarized.\n"
   ]
  },
  {
   "cell_type": "markdown",
   "id": "0d6722f7-8c19-4c8b-a8ce-eece93f943da",
   "metadata": {},
   "source": [
    "#Ex 10 - Objectives of Exercise\n",
    "\n",
    "__Objectives:__\n",
    " * List commonly used lanaguages for data science\n",
    " * List commonly used tools for data science\n",
    " * Display common text formatting and calculations in Python"
   ]
  },
  {
   "cell_type": "markdown",
   "id": "3e2017e6-8a82-4e00-af3e-bb5e9289969b",
   "metadata": {},
   "source": [
    "#Ex 4- Common Languages\n",
    "Some of the popular languages that Data Scientists use are:\n",
    "1. Python \n",
    "1. R\n",
    "1. SQL"
   ]
  },
  {
   "cell_type": "markdown",
   "id": "1b0377ac-47a7-4934-a943-806cce997358",
   "metadata": {},
   "source": [
    "#Ex 5 - Common Libraries\n",
    "Some of the commonly used libraries used by Data Scientists include:\n",
    "1. Pandas\n",
    "2. Numpy\n",
    "3. Matplotlib"
   ]
  },
  {
   "cell_type": "markdown",
   "id": "801a7236-c5ac-402a-b480-56ee72846f6f",
   "metadata": {},
   "source": [
    "#Ex 6 - Common Tools\n",
    "\n",
    "|Data Science Tools|\n",
    "|------------------|\n",
    "|Jupter Lab|\n",
    "|R Studio|\n",
    "|Scikit-Learn|"
   ]
  },
  {
   "cell_type": "markdown",
   "id": "8c6263f8-6cc2-469d-80d0-826174326061",
   "metadata": {},
   "source": [
    "#Ex 7 - Arithmetic exp\n",
    "\n",
    "***Below are a few examples of evaluating arithmetic expressions in Python***\n"
   ]
  },
  {
   "cell_type": "code",
   "execution_count": 1,
   "id": "5fa56cc3-1c0f-4c47-abe1-227f339be4ee",
   "metadata": {
    "tags": []
   },
   "outputs": [
    {
     "data": {
      "text/plain": [
       "17"
      ]
     },
     "execution_count": 1,
     "metadata": {},
     "output_type": "execute_result"
    }
   ],
   "source": [
    "# Ex 8 - Expression calculation\n",
    "\n",
    "#This a simple arithmetic expression to mutiply then add integers\n",
    "\n",
    "(3*4)+5"
   ]
  },
  {
   "cell_type": "code",
   "execution_count": 3,
   "id": "fda17a4e-a2a4-430c-b09f-9cdadd465951",
   "metadata": {
    "tags": []
   },
   "outputs": [
    {
     "data": {
      "text/plain": [
       "3.3333333333333335"
      ]
     },
     "execution_count": 3,
     "metadata": {},
     "output_type": "execute_result"
    }
   ],
   "source": [
    "# Ex 9 - Time conversion\n",
    "\n",
    "#This will convert 200 minutes to hours by diving by 60\n",
    "\n",
    "200/60"
   ]
  },
  {
   "cell_type": "markdown",
   "id": "7c197162-8203-4965-a317-c701a7c5ae16",
   "metadata": {},
   "source": [
    "#Ex 11\n",
    "\n",
    "**Author**\n",
    "\n",
    "Saritha Anand"
   ]
  }
 ],
 "metadata": {
  "kernelspec": {
   "display_name": "Python",
   "language": "python",
   "name": "conda-env-python-py"
  },
  "language_info": {
   "codemirror_mode": {
    "name": "ipython",
    "version": 3
   },
   "file_extension": ".py",
   "mimetype": "text/x-python",
   "name": "python",
   "nbconvert_exporter": "python",
   "pygments_lexer": "ipython3",
   "version": "3.7.12"
  }
 },
 "nbformat": 4,
 "nbformat_minor": 5
}
